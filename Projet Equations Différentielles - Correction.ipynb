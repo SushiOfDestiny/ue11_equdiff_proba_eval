{
 "cells": [
  {
   "cell_type": "code",
   "execution_count": 1,
   "metadata": {},
   "outputs": [],
   "source": [
    "import numpy as np \n",
    "import matplotlib.pyplot as plt\n",
    "%matplotlib inline \n",
    "plt.rcParams[\"figure.figsize\"] = (3,3)\n",
    "from mpl_toolkits.mplot3d import Axes3D\n",
    "from scipy.integrate import solve_ivp"
   ]
  },
  {
   "cell_type": "markdown",
   "metadata": {},
   "source": [
    "Suivi de position en mer\n",
    "======================\n",
    "\n",
    "Le but de ce projet est de simuler et prévoir en temps réel la position de navires en mer à partir de données GPS. En effet, la plupart de la flotte mondiale est maintenant équippée d'un AIS (Automatic Identification System) \n",
    "\n",
    "https://shipping.nato.int/nsc/operations/news/2021/ais-automatic-identification-system-overview\n",
    "\n",
    "qui communique régulièrement aux côtes et aux satellites la position de chaque bateau. Les données sont en fait disponibles publiquement et en temps réel sur \n",
    "\n",
    "https://www.marinetraffic.com/en/ais/home/centerx:-4.5/centery:50.8/zoom:6\n",
    "\n",
    "Ces communications permettent le suivi des positions et l'identification des navires à la fois aux côtes et à chacun des navires pour éviter les collisions.\n",
    "\n",
    "Considérons un bateau modélisé par sa position 2D $(x_1,x_2)\\in \\mathbb{R}^2$ dans le plan de la mer (on néglige la houle), et son orientation $x_3\\in \\mathbb{R}$\n",
    "\\begin{align*}\n",
    "\\dot{x}_1 &= v(t) \\cos(x_3) \\\\\n",
    "\\dot{x}_2 &= v(t) \\sin(x_3) \\\\\n",
    "\\dot{x}_3 &= w(t)\n",
    "\\end{align*}\n",
    "où $v$ et $w$ sont les vitesses linéaires et de rotation respectivement. On souhaite estimer la position en temps réel de ce bateau à partir de mesures GPS bruitées sans connaître les signaux $v$ et $w$. Pour cela, nous allons d'abord étudier la simulation numérique des trajectoires de ce bateau, puis apprendre à implémenter un *filtre de Kalman* permettant le filtrage des données GPS grâce à la connaissance d'un modèle approximé. \n",
    "\n",
    "Notons que dans ce projet, nous supposons la position GPS disponible continûment (à chaque instant) alors qu'elle est en fait échantillonnée en pratique, et il faut alors utiliser des méthodes discrètes mêlant la prédiction par le modèle et le recalage par les mesures (filtre de Kalman discret, filtre particulaire). Ce sont des algorithmes probabilistes que vous verrez dans le projet numérique de probabilités.\n"
   ]
  },
  {
   "cell_type": "code",
   "execution_count": 2,
   "metadata": {},
   "outputs": [],
   "source": [
    "def f(t,x):\n",
    "    v = 10.0 \n",
    "    w = 10.0 \n",
    "    return np.array([v*np.cos(x[2]),v*np.sin(x[2]),w])"
   ]
  },
  {
   "cell_type": "markdown",
   "metadata": {},
   "source": [
    "Euler explicite\n",
    "================\n",
    "\n",
    "**Question 1** Compléter les fonctions ``solve_euler_explicit`` et ``predict_euler_explicit`` ci-dessous prenant en entrée une fonction $f: \\mathbb{R}\\times\\mathbb{R}^n \\to \\mathbb{R}^n$ quelconque, une condition initiale $x_0$, un pas de temps $dt$, les temps initiaux et finaux, et renvoyant \n",
    "\n",
    "- le vecteur des temps $t^j$ et de la solution $x^j$ du schéma d'Euler explicite appliqué à $\\dot{x}=f(t,x)$,\n",
    "\n",
    "- la valeur finale au temps $t_f$ de la solution du schéma d'Euler explicite appliqué à $\\dot{x}=f(t,x)$,\n",
    "\n",
    "respectivement."
   ]
  },
  {
   "cell_type": "code",
   "execution_count": 3,
   "metadata": {},
   "outputs": [],
   "source": [
    "def solve_euler_explicit(f, x0, dt, t0, tf):\n",
    "    ts, xs = [t0], [x0]\n",
    "    while ts[-1] < tf:\n",
    "        t, x = ts[-1], xs[-1]\n",
    "        t_next, x_next = t + dt, x + dt * f(t,x)\n",
    "        ts.append(t_next); xs.append(x_next)\n",
    "    return (np.array(ts), np.array(xs).T)\n",
    "\n",
    "def predict_euler_explicit(f, x0, dt, t0, tf):\n",
    "    t, x = t0, x0\n",
    "    while t < tf:\n",
    "        t_next, x_next = t + dt, x + dt * f(t,x)\n",
    "        t, x = t_next, x_next\n",
    "    return x"
   ]
  },
  {
   "cell_type": "markdown",
   "metadata": {},
   "source": [
    "**Question 2** Utiliser ``solve_euler_explicit`` pour simuler des trajectoires simples et connues de bateau (ligne droite et cercle notamment). Etudier l'erreur numérique du schéma\n",
    "- lorsque $\\Delta t$ tend vers 0 pour un horizon de temps $t_f$ fixé ; \n",
    "- à $\\Delta t$ fixé, lorsque $t_f$ augmente : arrivez-vous à simuler une trajectoire circulaire en temps long?\n",
    "\n",
    "Expliquer comment trouver numériquement (sans le faire) l'ordre de convergence du schéma."
   ]
  },
  {
   "cell_type": "code",
   "execution_count": 4,
   "metadata": {},
   "outputs": [
    {
     "data": {
      "image/png": "[encoded data removed]",
      "text/plain": [
       "<Figure size 216x216 with 1 Axes>"
      ]
     },
     "metadata": {
      "needs_background": "light"
     },
     "output_type": "display_data"
    },
    {
     "name": "stdout",
     "output_type": "stream",
     "text": [
      "Valeur finale de l'état :  [ -0.72331613   1.25065264 300.        ]\n"
     ]
    }
   ],
   "source": [
    "x0 = np.array([0.0,0.0,0.0])\n",
    "dt = 0.05\n",
    "t0, tf = 0.0, 30.0\n",
    "t_explicit, x_explicit = solve_euler_explicit(f, x0, dt, t0, tf)\n",
    "\n",
    "plt.figure()\n",
    "plt.plot(x_explicit[0],x_explicit[1])\n",
    "plt.grid(True)\n",
    "plt.xlabel('$x_1$')\n",
    "plt.ylabel('$x_2$')\n",
    "plt.show()\n",
    "\n",
    "print(\"Valeur finale de l'état :  %s\" % predict_euler_explicit(f, x0, dt, t0, tf))\n",
    "\n"
   ]
  },
  {
   "attachments": {},
   "cell_type": "markdown",
   "metadata": {},
   "source": [
    "Avec ce choix de $v$ et $w$, le navire est censé tourner indéfiniment sur un cercle. Lorsqu'on fixe $t_f$ à 1, et on décroit le pas de temps, l'erreur numérique décroit, on voit progressivement un cercle se former (sorte de polygone pour un pas de 0.1, et un cercle pour 0.01). Lorsqu'on fixe le pas à 0.05 et on augmente le temps final par contre, l'erreur s'accumule, le cercle a tendance à s'épaissir car le bateau ne revient pas en son point initial. Ceci dit sur cet exemple particulier, le motif semble stable même pour des temps très longs (alors que sur d'autres exemples, on pourrait diverger)\n",
    "Si on voulait trouver l'ordre du schéma numérique, on simulerait une trajectoire connue (ligne droite, cercle) pendant un temps fixé pour des pas de temps de plus en plus petit, et on comparerait la trajectoire obtenue à la théorique pour chacun des pas de temps, et on tracerait cette erreur numérique en fonction du pas de temps. En échelle log, on majorerait ces points par une droite dont la pente donne l'ordre du schéma."
   ]
  },
  {
   "cell_type": "markdown",
   "metadata": {},
   "source": [
    "Modèle d'estimation\n",
    "====================\n",
    "\n",
    "Notre fonction de prédiction demande un pas de temps suffisamment petit et surtout nécessite de connaitre les vitesses $v$ et $w$ du bateau. On souhaite être capable de suivre la trajectoire du bateau sans connaitre ces quantités, en exploitant des mesures de position intermittentes obtenues par GPS. On suppose pour cela que les vitesses $v$ et $w$ varient lentement et on adopte donc le modèle étendu (approximé)\n",
    "\\begin{align}\n",
    "\\dot{x}_1 &= x_4 \\cos(x_3) \\\\\n",
    "\\dot{x}_2 &= x_4 \\sin(x_3) \\\\\n",
    "\\dot{x}_3 &= x_5 \\\\\n",
    "\\dot{x}_4 &= 0 \\\\\n",
    "\\dot{x}_5 &= 0 \n",
    "\\end{align}"
   ]
  },
  {
   "cell_type": "code",
   "execution_count": 5,
   "metadata": {},
   "outputs": [],
   "source": [
    "def f_ext(t,x):\n",
    "    return np.array([x[3]*np.cos(x[2]),x[3]*np.sin(x[2]),x[4],0,0])"
   ]
  },
  {
   "cell_type": "code",
   "execution_count": 6,
   "metadata": {},
   "outputs": [
    {
     "data": {
      "text/plain": [
       "Text(0, 0.5, '$x_2$')"
      ]
     },
     "execution_count": 6,
     "metadata": {},
     "output_type": "execute_result"
    },
    {
     "data": {
      "image/png": "[encoded data removed]",
      "text/plain": [
       "<Figure size 216x216 with 1 Axes>"
      ]
     },
     "metadata": {
      "needs_background": "light"
     },
     "output_type": "display_data"
    }
   ],
   "source": [
    "x0 = np.array([0.0,0.0,0.0,10.0,10.0])  \n",
    "dt = 0.05\n",
    "t0, tf = 0.0, 30.0\n",
    "t_explicit, x_explicit = solve_euler_explicit(f_ext, x0, dt, t0, tf)\n",
    "\n",
    "plt.figure()\n",
    "plt.plot(x_explicit[0],x_explicit[1])\n",
    "plt.grid(True)\n",
    "plt.xlabel('$x_1$')\n",
    "plt.ylabel('$x_2$')"
   ]
  },
  {
   "attachments": {},
   "cell_type": "markdown",
   "metadata": {},
   "source": [
    "On suppose dans ce projet que l'on dispose d'une mesure GPS de position $y=(x_1,x_2)$ à chaque instant et que l'on souhaite estimer la position $(x_1,x_2)$, l'angle $x_3$ et les vitesses $(x_4,x_5)$ en temps réel. Estimer la position déjà connue par le GPS peut paraître inutile mais la mesure est souvent bruitée et l'information du modèle d'évolution peut permettre de réduire ou \"filtrer\" ce bruit.\n",
    "\n",
    "**Question** Justifier que le système théorique donné par ``f_ext`` et $y$ est *observable*, c'est-à-dire que la connaissance de $t\\mapsto y(t) = (x_1(t),x_2(t))$ détermine de manière unique tout l'état $(x_1,x_2,x_3,x_4,x_5)$. Est-ce une bonne idée de calculer analytiquement $x_3,x_4,x_5$ à partir de $y$ ?\n",
    "\n",
    "**Réponse** En dérivant $y$, on trouve $(x_4 \\cos x_3, x_4 \\sin x_3)$ dont la norme donne $x_4$ et l'angle donne $x_3$ (à vitesse non nulle) Ensuite la dérivée de $x_3$ donne $x_5$. Ceci cest un raisonnement théorique qui dit que l'information est contenue dans le signal $y$. Cependant, le signal $y$ étant bruité, c'est une très mauvaise idée de le dériver numériquement. "
   ]
  },
  {
   "cell_type": "markdown",
   "metadata": {},
   "source": [
    "\n",
    "\n",
    "On souhaite donc écrire un algorithme, appelé *observateur* ou *filtre*, qui prenne en entrée $y(t)$ et qui construise une estimée $\\hat{x}(t)$ de $x(t)$ telle que $\\hat{x}$ converge vers $x$ asymptotiquement.\n",
    "\n",
    "Pour cela, il faut prendre en compte que le modèle donné par ``f_ext`` et $y$ n'est pas exact car il y a 2 sources d'incertitudes : les erreurs de mesure du GPS, et les accélérations $\\dot{v}$ et $\\dot{w}$ qui ne sont pas nulles en réalité. Le système réel est donc plutôt\n",
    "\\begin{align*}\n",
    "\\dot{x}_1 &= x_4 \\cos(x_3) \\\\\n",
    "\\dot{x}_2 &= x_4 \\sin(x_3) \\\\\n",
    "\\dot{x}_3 &= x_5 \\hspace{5em} , \\hspace{5em} y_m = (x_1 ,x_2) + \\delta_y(t) \\\\\n",
    "\\dot{x}_4 &= \\delta_v(t) \\\\\n",
    "\\dot{x}_5 &= \\delta_w(t)\n",
    "\\end{align*}\n",
    "avec $\\delta_v\\in \\mathbb{R}$, $\\delta_w\\in \\mathbb{R}$, $\\delta_y\\in \\mathbb{R}^2$, des entrées *faibles* mais inconnues. L'observateur doit donc être *robuste* aux erreurs de modèles et de mesure."
   ]
  },
  {
   "attachments": {},
   "cell_type": "markdown",
   "metadata": {},
   "source": [
    "Etude théorique du filtre de Kalman étendu déterministe\n",
    "==============\n",
    "\n",
    "Considérons un système dynamique décrit par\n",
    "$$\n",
    "\\dot{x} = f(t,x) + \\delta_f(t) \\quad , \\quad y_m = h(t,x)+ \\delta_h(t) \n",
    "$$\n",
    "où $x\\in \\mathbb{R}^n$ est l'état du système, $y\\in \\mathbb{R}^p$ est la mesure connue, et $\\delta_f,\\delta_h$ sont des incertitudes inconnues que l'on suppose bornées. \n",
    "\n",
    "Etant donné la mesure $t\\mapsto y_m(t)$, on s'intéresse alors à implémenter un *filtre de Kalman* donné par\n",
    "\\begin{align}\n",
    "\\dot{\\hat{x}} & = f(t,\\hat{x})+ P\\frac{\\partial h}{\\partial x}(t,\\hat{x})^\\top R^{-1} (y_m(t)-h(t,\\hat{x})) \n",
    "\\\\\n",
    "\\dot{P} & = \\lambda P + \\frac{\\partial f}{\\partial x}(t,\\hat{x}) P + P\\frac{\\partial f}{\\partial x}(t,\\hat{x})^\\top + Q - P \\frac{\\partial h}{\\partial x}(t,\\hat{x})^\\top R^{-1} \\frac{\\partial h}{\\partial x}(t,\\hat{x}) P\n",
    "\\end{align}\n",
    "où $\\hat{x}\\in \\mathbb{R}^n$, $P\\in \\mathbb{R}^{n\\times n}$ constitue l'état du filtre, et où les paramètres $\\lambda\\in \\mathbb{R}$, $Q\\in \\mathbb{R}^{n\\times n}$, $R\\in \\mathbb{R}^{p\\times p}$ sont à choisir tels que\n",
    "- $\\lambda \\geq 0$ et $Q$ est symétrique, à valeurs propres positives (matrice positive),\n",
    "- $R$ est symétrique, à valeurs propres strictement positives (matrice définie positive),\n",
    "- $\\lambda > 0$ ou bien $Q$ est à valeurs propres strictement positives.\n",
    "\n",
    "Cet algorithme compare à chaque instant les mesures aux estimées et corrige ainsi ces estimées dynamiquement, en temps réel. En effet, $x(0)$ étant mal connue, le modèle étant imparfait, et les erreurs numériques s'accumulant, la simulation sans ces corrections serait impossible. On va donc montrer que modulo les erreurs de modèle et de mesure, c'est algorithme converge localement, c'est-à-dire, $\\hat{x}$ tend vers $x$ si l'erreur initiale $\\hat{x}(0)-x(0)$ est suffisamment faible.\n",
    "\n",
    "Pour cela, on admet ici que si $P(0)$ est symétrique à valeurs propres strictement positives, alors $P(t)$ le reste pour tout $t\\geq 0$. De plus, on admet que le long des trajectoires, il existe $\\rho_1>0$ et $\\rho_2>0$ tels que \n",
    "$$\n",
    "\\rho_1 I_n \\leq P^{-1}(t) \\leq \\rho_2 I_n \\quad \\forall t\\geq 0 \\ ,\n",
    "$$\n",
    "où $I_n$ est la matrice identité de dimension $n$. En particulier, $P$ ne tend pas à devenir singulière, ni diverger. Cette dernière hypothèse est cruciale dans la théorie du filtre de Kalman et se justifie sous des hypothèses d'*observabilité* dans le cas des systèmes linéaires. Mais l'étude de cette hypothèse nous amènerait bien trop loin pour ce projet... (voir remarque ci-dessous)\n",
    "\n",
    "En considérant le système complet d'état $(x,\\hat{x},P)$ avec $P$ inversible, posons\n",
    "$$\n",
    "V(x,\\hat{x},P) = (\\hat{x}-x)^\\top P^{-1} (\\hat{x}-x) \\ .\n",
    "$$"
   ]
  },
  {
   "cell_type": "markdown",
   "metadata": {},
   "source": [
    "**Question** On suppose que les dérivées partielles de $f$ et $h$ par rapport à $x$ au premier et second ordre sont globalement bornées. En déduire qu'étant donnés $Q,R,\\lambda, \\rho_1,\\rho_2$, il existe $\\kappa_f\\geq 0$, $\\kappa_h\\geq 0$, $k>0$, et $\\varepsilon >0$, $\\delta\\geq 0$, tels que pour tout $(t,x,\\hat{x})\\in \\mathbb{R}^+ \\times \\mathbb{R}^n \\times \\mathbb{R}^n$,\n",
    "\\begin{align}\n",
    "\\left\\|f(t,x)-f(t,\\hat{x})-\\frac{\\partial f}{\\partial x}(t,\\hat{x}) (x-\\hat{x})\\right\\| &\\leq \\kappa_f \\|x-\\hat{x}\\|^2\\\\\n",
    "\\left\\|h(t,x)-h(t,\\hat{x})-\\frac{\\partial h}{\\partial x}(t,\\hat{x}) (x-\\hat{x})\\right\\| &\\leq \\kappa_h \\|x-\\hat{x}\\|^2\n",
    "\\end{align}\n",
    "et \n",
    "$$\n",
    "\\frac{d}{dt}V(x(t),\\hat{x}(t),P(t)) \\leq - k V(x(t),\\hat{x}(t),P(t)) + \\delta\n",
    "$$\n",
    "le long des trajectoires vérifiant $\\|\\hat{x}(t)-x(t) \\|<\\varepsilon$. En déduire qu'il existe $k'>0,\\rho'>0,\\delta'\\geq 0$ tels que si $\\|\\hat{x}(0)-x(0)\\|$, $\\delta_f$ et $\\delta_h$ sont suffisamment faibles, \n",
    "$$\n",
    "\\|\\hat{x}(t)-x(t) \\| \\leq \\rho' e^{-k' t} \\|\\hat{x}(0)-x(0) \\|  + \\delta' \\qquad \\forall t\\geq 0,\n",
    "$$\n",
    "avec $\\delta'=0$ en l'absence d'incertitudes, i.e., si $\\delta_f=0$ et $\\delta_h=0$.\n",
    "\n",
    "*Indice* : Montrer que $\\frac{d}{dt}P^{-1}(t)=-P^{-1}(t) \\left(\\frac{d}{dt}P(t) \\right) P^{-1}(t) $. On rappelle aussi que par Cauchy-Schwarz, pour tout $(x,y)\\in \\mathbb{R}^n\\times \\mathbb{R}^n$ et pour toute matrice symétrique $P$ à valeurs propres strictement positives (matrice définie positive), on a $x^\\top P y \\leq \\sqrt{x^\\top P x} \\sqrt{y^\\top P y}$. On rappelle aussi l'inégalité de Young :  pour tout $(a,b) \\in \\mathbb{R}\\times \\mathbb{R}$ et pour tout $\\gamma>0$, $2 ab \\leq \\gamma a^2 +\\frac{1}{\\gamma} b^2$."
   ]
  },
  {
   "attachments": {},
   "cell_type": "markdown",
   "metadata": {},
   "source": [
    "**Réponse** Les inégalités (1) et (2) sont obtenues par la formule des accroissements finis au second ordre. \n",
    "\n",
    "Ensuite, en écrivant que $P(t)P^{-1}(t)=I_n$ pour tout $t$, et en dérivant par rapport au temps, on a \n",
    "$$\n",
    "\\left[\\frac{d}{dt} P(t) \\right] P^{-1}(t) + P(t)\\left[\\frac{d}{dt} P^{-1}(t) \\right] = 0\n",
    "$$\n",
    "d'où\n",
    "$$\n",
    "\\frac{d}{dt}P^{-1}(t)=-P^{-1}(t) \\left(\\frac{d}{dt}P(t) \\right) P^{-1}(t) \n",
    "$$\n",
    "Par ailleurs on a \n",
    "$$\n",
    "\\frac{d}{dt} V = \\left[\\frac{d}{dt}(\\hat{x}-x)\\right]^\\top P^{-1} (\\hat{x}-x) + (\\hat{x}-x)^\\top \\left[\\frac{d}{dt} P^{-1} \\right] (\\hat{x}-x) + (\\hat{x}-x)^\\top P^{-1} \\left[\\frac{d}{dt}(\\hat{x}-x)\\right]\n",
    "$$\n",
    "et\n",
    "$$\n",
    "\\frac{d}{dt}(\\hat{x}-x) = f(t,\\hat{x}) - f(t,x) -\\delta_f+ P\\frac{\\partial h}{\\partial x}(t,\\hat{x})^\\top R^{-1} (h(t,x)+\\delta_h-h(t,\\hat{x}))\n",
    "$$\n",
    "En développant $f(t,\\hat{x}) - f(t,x)=\\frac{\\partial f}{\\partial x}(t,\\hat{x}) (\\hat{x}-x) + \\Delta f$ et $h(t,\\hat{x})-h(t,x)=\\frac{\\partial h}{\\partial x}(t,\\hat{x}) (\\hat{x}-x) + \\Delta h$, on obtient\n",
    "\\begin{align*}\n",
    "\\frac{d}{dt} V &= \\left( \\frac{\\partial f}{\\partial x}(t,\\hat{x}) (\\hat{x}-x) + \\Delta f \\right)^\\top P^{-1} (\\hat{x}-x)  +  (\\hat{x}-x)^\\top P^{-1} \\left( \\frac{\\partial f}{\\partial x}(t,\\hat{x}) (\\hat{x}-x) + \\Delta f \\right)\\\\& -2 (\\hat{x}-x)^\\top P^{-1} \\delta_f-2(\\hat{x}-x)^\\top\\frac{\\partial h}{\\partial x}(t,\\hat{x})^\\top R^{-1}\\left( \\frac{\\partial h}{\\partial x}(t,\\hat{x})(\\hat{x}-x) +\\Delta h\\right)\\\\&  + 2(\\hat{x}-x)^\\top\\frac{\\partial h}{\\partial x}(t,\\hat{x})^\\top R^{-1}\\delta_h + (\\hat{x}-x)^\\top \\left(\\frac{d}{dt} P^{-1}\\right) (\\hat{x}-x)\n",
    "\\end{align*}\n",
    "avec $\\|\\Delta f\\|\\leq\\kappa_f \\|x-\\hat{x}\\|^2$ and $\\|\\Delta h\\|\\leq\\kappa_h \\|x-\\hat{x}\\|^2$.\n",
    "Par ailleurs, on a \n",
    "$$\n",
    "\\frac{d}{dt}P^{-1} = -\\lambda P^{-1} - P^{-1}\\frac{\\partial f}{\\partial x}(t,\\hat{x}) - \\frac{\\partial f}{\\partial x}(t,\\hat{x})^\\top P^{-1} - P^{-1}QP^{-1} + \\frac{\\partial h}{\\partial x}(t,\\hat{x})^\\top R^{-1} \\frac{\\partial h}{\\partial x}(t,\\hat{x})\n",
    "$$\n",
    "Et donc\n",
    "\\begin{align*}\n",
    "\\frac{d}{dt} V &= - \\lambda V - (\\hat{x}-x)^\\top P^{-1}QP^{-1}(\\hat{x}-x) -(\\hat{x}-x)^\\top\\frac{\\partial h}{\\partial x}(t,\\hat{x})^\\top R^{-1} \\frac{\\partial h}{\\partial x}(t,\\hat{x})(\\hat{x}-x) \\\\&+ 2 (\\hat{x}-x)^\\top P^{-1} \\Delta f -2(\\hat{x}-x)^\\top\\frac{\\partial h}{\\partial x}(t,\\hat{x})^\\top R^{-1}\\Delta h\\\\& -2 (\\hat{x}-x)^\\top P^{-1} \\delta_f + 2(\\hat{x}-x)^\\top\\frac{\\partial h}{\\partial x}(t,\\hat{x})^\\top R^{-1}\\delta_h\n",
    "\\end{align*}\n",
    "Par définition de $\\rho_1,\\rho_2$, pour tout $t$, $x,\\hat{x}$,\n",
    "$$\n",
    "\\rho_1 \\|\\hat{x}-x\\|^2 \\leq V(t,x,\\hat{x}) \\leq \\rho_2 \\|\\hat{x}-x\\|^2  \\ .\n",
    "$$\n",
    "En utilisant Cauchy Schwarz, en notant $c_r$ une borne de $R^{-1}$, et $c_f$ et $c_h$ les bornes des normes des jacobiennes de $f$ et $h$ respectivement (car les dérivées partielles sont supposées globalement bornées),\n",
    "$$\n",
    "(\\hat{x}-x)^\\top P^{-1} \\Delta f\\leq  \\sqrt{V} \\sqrt{\\Delta f^\\top P^{-1} \\Delta f} \\leq \\sqrt{\\rho_2} \\sqrt{V} \\|\\Delta f\\|\\leq \\kappa_f \\sqrt{\\rho_2} \\sqrt{V} \\|\\hat{x}-x\\|^2 \\leq \\kappa_f \\sqrt{\\frac{\\rho_2}{\\rho_1}} \\|\\hat{x}-x\\| V\n",
    "$$\n",
    "$$\n",
    "(\\hat{x}-x)^\\top\\frac{\\partial h}{\\partial x}(t,\\hat{x})^\\top R^{-1}\\Delta h \\leq c_h c_r \\|\\hat{x}-x\\| \\|\\Delta h\\| \\leq \\kappa_h c_h c_r  \\|\\hat{x}-x\\|^3 \\leq \\kappa_h c_h c_r \\frac{1}{\\rho_1}\\|\\hat{x}-x\\| V\n",
    "$$\n",
    "$$\n",
    "(\\hat{x}-x)^\\top P^{-1} \\delta_f \\leq \\sqrt{V} \\sqrt{\\delta_f^\\top P^{-1} \\delta_f} \\leq \\sqrt{\\rho_2}\\sqrt{V} \\|\\delta_f\\|\n",
    "$$\n",
    "$$\n",
    "(\\hat{x}-x)^\\top\\frac{\\partial h}{\\partial x}(t,\\hat{x})^\\top R^{-1}\\delta_h \\leq c_h c_r \\|\\hat{x}-x\\| \\|\\delta_h\\| \\leq \\frac{c_h c_r}{\\sqrt{\\rho_1}} \\sqrt{V} \\|\\delta_h\\|\n",
    "$$\n",
    "En notant $\\rho_q\\geq 0$ la plus petite valeur propre de $Q$,\n",
    "$$\n",
    "(\\hat{x}-x)^\\top P^{-1}QP^{-1}(\\hat{x}-x) \\geq \\rho_q \\rho_1^2 \\|\\hat{x}-x\\|^2 \\geq \\rho_q \\rho_1 V\n",
    "$$\n",
    "On a donc \n",
    "$$\n",
    "- \\lambda V - (\\hat{x}-x)^\\top P^{-1}QP^{-1}(\\hat{x}-x)\\leq - (\\lambda + \\rho_q \\rho_1) V\n",
    "$$\n",
    "et $\\lambda_v:=\\lambda + \\rho_q \\rho_1>0$ par hypothèse.\n",
    "Il s'ensuit que\n",
    "\\begin{align}\n",
    "\\frac{d}{dt} V  &\\leq - \\left(\\lambda_v - 2 \\left(\\kappa_f \\sqrt{\\frac{\\rho_2}{\\rho_1}}+\\kappa_h c_h c_r \\frac{1}{\\rho_1} \\right) \\|\\hat{x}-x\\| \\right) V  + 2\\left(\\sqrt{\\rho_2} \\|\\delta_f\\|+ \\frac{c_h c_r}{\\sqrt{\\rho_1}} \\|\\delta_h\\| \\right) \\sqrt{V} \\\\\n",
    "&\\leq - \\frac{\\lambda_v}{2} V + 2\\left(\\sqrt{\\rho_2} \\|\\delta_f\\|+ \\frac{c_h c_r}{\\sqrt{\\rho_1}} \\|\\delta_h\\| \\right) \\sqrt{V}\n",
    "\\end{align}\n",
    "si $ \\|\\hat{x}-x\\|<\\frac{1}{4}\\frac{\\lambda_v}{\\kappa_f \\sqrt{\\frac{\\rho_2}{\\rho_1}}+\\kappa_h c_h c_r \\frac{1}{\\rho_1}}$ et par inégalité de Young,\n",
    "$$\n",
    "\\frac{d}{dt} V  \\leq - \\frac{\\lambda_v}{4} V + \\frac{4}{\\lambda_v} \\left(\\sqrt{\\rho_2} \\bar \\delta_f+ \\frac{c_h c_r}{\\sqrt{\\rho_1}} \\bar \\delta_h \\right)^2 \n",
    "$$\n",
    "où $ \\bar \\delta_f$ et $ \\bar \\delta_h$ sont les bornes des bruits de dynamique et mesure respectivement.\n",
    "En multipliant par $e^{\\frac{\\lambda_v}{4}t}$ de chaque côté et en intégrant de 0 à $t$, on trouve\n",
    "$$\n",
    "V(t) \\leq e^{\\frac{-\\lambda_v}{4}t}V(0) + \\left(\\frac{4}{\\lambda_v}\\right)^2 \\left(\\sqrt{\\rho_2} \\bar \\delta_f+ \\frac{c_h c_r}{\\sqrt{\\rho_1}} \\bar \\delta_h \\right)^2 \n",
    "$$\n",
    "et donc en passant à la racine\n",
    "$$\n",
    "\\|\\hat{x}(t)-x(t)\\|\\leq \\sqrt{\\frac{\\rho_2}{\\rho_1}}e^{\\frac{-\\lambda_v}{8}t}\\|\\hat{x}(0)-x(0)\\| + \\frac{4}{\\lambda_v}\\left(\\sqrt{\\frac{\\rho_2}{\\rho_1}} \\bar \\delta_f+ \\frac{c_h c_r}{\\rho_1} \\bar \\delta_h \\right)\n",
    "$$"
   ]
  },
  {
   "cell_type": "markdown",
   "metadata": {},
   "source": [
    "**Remarque** Notons ici que l'analyse théorique du filtre de Kalman admet souvent un cercle vicieux: la dynamique de $P$, et donc les paramètres $\\rho_1$ et $\\rho_2$, dépendent de $\\hat{x}$, et on a besoin de $\\rho_1$ et $\\rho_2$ pour montrer la convergence de $\\hat{x}$ vers $x$. Ce problème peut être résolu dans certains cas pour des structures particulières ou sous des hypothèses très fortes d'observabilité uniforme. En fait, le filtre de Kalman a initialement été développé pour les systèmes linéaires, où la dynamique de $P$ est indépendante de $\\hat{x}$ et où les paramètres $\\rho_1$ et $\\rho_2$ sont donc des propriétés *intrinsèques* du système (liés à son observabilité) et indépendants de $\\hat{x}$. La convergence de l'estimation découle alors sans cercle vicieux, et est même *globale*, c'est-à-dire sans restriction sur l'erreur initiale $\\|\\hat{x}(0)-x(0) \\|$ (ni sur les incertitudes). Vous pouvez le vérifier en prenant $\\kappa_f=0$ et $\\kappa_h=0$. Mais vu sa grande practicité, ce filtre a ensuite été *étendu* aux systèmes nonlinéaires comme décrit ci-dessus (d'où son nom, *extended Kalman filter*, \"EKF\"), et est l'un des filtres les plus implémentés dans l'industrie (dans sa version discrète). Il est utile de connaître cet algorithme tout en ayant conscience de ses limites... Des variantes, telles que le *unscented Kalman filter* dans sa version probabiliste, permettent parfois d'obtenir de meilleurs résultats. Pour des systèmes très non linéaires, il vaut mieux utiliser des observateurs adaptés plus complexes."
   ]
  },
  {
   "cell_type": "markdown",
   "metadata": {},
   "source": [
    "Application au suivi du bateau\n",
    "================\n",
    "\n",
    "On commence par simuler précisément une trajectoire continue quelconque de bateau, que l'on considèrera exacte. Bien sûr, en pratique cette solution exacte est inconnue, seule la mesure l'est, elle sera utilisée ici seulement pour comparer la solution estimée à la vraie, et évaluer ses performances."
   ]
  },
  {
   "cell_type": "code",
   "execution_count": 7,
   "metadata": {},
   "outputs": [],
   "source": [
    "def f_traj(t,x):\n",
    "    v = 2.0 \n",
    "    w = np.sin(t)\n",
    "    return np.array([v*np.cos(x[2]),v*np.sin(x[2]),w])"
   ]
  },
  {
   "cell_type": "code",
   "execution_count": 8,
   "metadata": {},
   "outputs": [
    {
     "name": "stdout",
     "output_type": "stream",
     "text": [
      "[ 7.37195036 13.20715265]\n"
     ]
    },
    {
     "data": {
      "image/png": "[encoded data removed]",
      "text/plain": [
       "<Figure size 216x216 with 1 Axes>"
      ]
     },
     "metadata": {
      "needs_background": "light"
     },
     "output_type": "display_data"
    }
   ],
   "source": [
    "# simulation d'une trajectoire continue à haute précision, que l'on considère exacte. \n",
    "# L'option ``dense_output`` de ``solve_ivp`` permet d'obtenir en sortie une fonction ``sol_traj.sol`` qui donne la solution \n",
    "# à n'importe quel temps (voir doc) Ceci est très utile lorsque vous ne savez pas d'avance à quel instant vous en aurez besoin\n",
    "# (comme ici la mesure, voir fonction ``y_traj`` ci-dessous)\n",
    "x0 = np.array([0.0,0.0,0.0])\n",
    "t0, tf = 0.0, 20.0\n",
    "sol_traj = solve_ivp(fun = f_traj, t_span = [t0, tf], y0 = x0, dense_output=True, t_eval = np.arange(t0,tf,0.1), rtol=1e-4)\n",
    "\n",
    "plt.figure()\n",
    "plt.plot(sol_traj.y[0],sol_traj.y[1])\n",
    "plt.grid(True)\n",
    "plt.xlabel('$x_1$')\n",
    "plt.ylabel('$x_2$')\n",
    "plt.title('Trajectoire exacte')\n",
    "\n",
    "def y_traj(t):\n",
    "    # on sélectionne les deux premières composantes de la solution \"exacte\" au temps t : mesure de position exacte\n",
    "    return sol_traj.sol(t)[:2] \n",
    "\n",
    "print(y_traj(10.0))"
   ]
  },
  {
   "cell_type": "markdown",
   "metadata": {},
   "source": [
    "Puis on définit les paramètres et fonctions nécessaires à la simulation du filtre.\n",
    "\n",
    "**Question** Compléter ci-dessous les fonctions ``jac_f_ext`` et ``jac_h_ext`` donnant les matrices jacobiennes des fonctions de dynamique et mesure théoriques $f_{ext}:\\mathbb{R}^5\\to \\mathbb{R}^5$ and $h_{ext}:\\mathbb{R}^5\\to \\mathbb{R}^2$ données par\n",
    "$$\n",
    "f_{ext}(x) = (x_4 \\cos(x_3),x_4 \\sin(x_3),x_5 ,0,0) \\quad , \\quad h_{ext} = (x_1,x_2)\n",
    "$$\n",
    "Vu que les incertitudes $\\delta_v,\\delta_w,\\delta_y$ sont inconnues, ce sont ces fonctions qui seront utilisées dans le filtre."
   ]
  },
  {
   "cell_type": "code",
   "execution_count": 9,
   "metadata": {},
   "outputs": [
    {
     "name": "stdout",
     "output_type": "stream",
     "text": [
      "[[ 0.  0. -0.  1.  0.]\n",
      " [ 0.  0.  1.  0.  0.]\n",
      " [ 0.  0.  0.  0.  1.]\n",
      " [ 0.  0.  0.  0.  0.]\n",
      " [ 0.  0.  0.  0.  0.]]\n",
      "[[1 0 0 0 0]\n",
      " [0 1 0 0 0]]\n",
      "[-4.25967601  4.74032399  0.          0.          0.          1.\n",
      "  0.          0.          1.          0.          1.          1.\n",
      "  0.          0.          2.          0.          1.          2.\n",
      "  0.          2.        ]\n"
     ]
    }
   ],
   "source": [
    "# scénario de mesure\n",
    "std_y = 1.0  # écart-type du bruit de mesure\n",
    "\n",
    "# paramètres du filtre de Kalman\n",
    "R = np.eye(2)\n",
    "Rinv = np.linalg.inv(R)\n",
    "Q = np.eye(5)\n",
    "#Q = np.diag([0.0,0.0,0.0,5.0,5.0])\n",
    "lbda = 1\n",
    "xhat0 = np.array([5.0,-5.0,0.0,1.0,0.0])\n",
    "P0 = np.eye(5)\n",
    "xhatP0 = np.hstack([xhat0,P0[0,0],P0[0,1],P0[0,2],P0[0,3],P0[0,4],P0[1,1],P0[1,2],P0[1,3],P0[1,4],P0[2,2],P0[2,3],P0[2,4],P0[3,3],P0[3,4],P0[4,4]])\n",
    "\n",
    "def jac_f_ext(t,x):\n",
    "    # jacobian matrix of the dynamics f_ext\n",
    "    return np.array([[0,0,-x[3]*np.sin(x[2]),np.cos(x[2]),0],\n",
    "                     [0,0,x[3]*np.cos(x[2]),np.sin(x[2]),0],\n",
    "                     [0,0,0,0,1],\n",
    "                     [0,0,0,0,0],\n",
    "                     [0,0,0,0,0]])\n",
    "\n",
    "print(jac_f_ext(0,xhat0))\n",
    "\n",
    "def jac_h_ext(t,x):\n",
    "    # jacobian matrix of the output map h_ext = (x1,x2)\n",
    "    return np.array([[1,0,0,0,0],\n",
    "                     [0,1,0,0,0]])\n",
    "\n",
    "print(jac_h_ext(0,xhat0))\n",
    "\n",
    "def f_EKF(t,xhatP):\n",
    "    xhat = xhatP[:5]\n",
    "    Ps = xhatP[5:]\n",
    "    P = np.array([[Ps[0],Ps[1],Ps[2],Ps[3],Ps[4]],\n",
    "                  [Ps[1],Ps[5],Ps[6],Ps[7],Ps[8]],\n",
    "                  [Ps[2],Ps[6],Ps[9],Ps[10],Ps[11]],\n",
    "                  [Ps[3],Ps[7],Ps[10],Ps[12],Ps[13]],\n",
    "                  [Ps[4],Ps[8],Ps[11],Ps[13],Ps[14]]])\n",
    "    jac_f = jac_f_ext(t,xhat)\n",
    "    jac_h = jac_h_ext(t,xhat)\n",
    "    y_mes = y_traj(t) + 1*np.random.normal(0.0,std_y)\n",
    "    xhat_dot = f_ext(t,xhat) + P @ np.transpose(jac_h) @ Rinv @ (y_mes-xhat[:2])\n",
    "    P_dot = lbda*P + jac_f @ P + P @ np.transpose(jac_f) + Q - P @ np.transpose(jac_h) @ Rinv @ jac_h @ P\n",
    "    return np.hstack([xhat_dot,P_dot[0,0],P_dot[0,1],P_dot[0,2],P_dot[0,3],P_dot[0,4],P_dot[1,1],P_dot[1,2],P_dot[1,3],P_dot[1,4],P_dot[2,2],P_dot[2,3],P_dot[2,4],P_dot[3,3],P_dot[3,4],P_dot[4,4]])\n",
    "\n",
    "print(f_EKF(0,xhatP0))\n",
    "\n"
   ]
  },
  {
   "cell_type": "markdown",
   "metadata": {},
   "source": [
    "**Question** Justifier que la fonction ``f_EKF`` donne bien la dynamique du filtre de Kalman étendu."
   ]
  },
  {
   "cell_type": "markdown",
   "metadata": {},
   "source": [
    "**Question** Implémenter le filtre en appliquant votre fonction ``solve_euler_explicit`` à ``f_EKF``. Comparer l'estimation obtenue avec la trajectoire exacte pour différentes valeurs de paramètres $(R,Q,\\lambda)$ et conditions initiales, d'abord en absence de bruit de mesure, puis en introduisant le bruit. Que se passe-t-il lorsque $R$ est pris petit/grand ? Justifier qu'on relie ce paramètre à la confiance que l'on a en la mesure. Lorsqu'on rajoute le bruit de mesure, expliquer pourquoi l'on dit souvent que le filtre fait un compromis entre bruit de modèle et bruit de mesure."
   ]
  },
  {
   "cell_type": "code",
   "execution_count": 25,
   "metadata": {},
   "outputs": [
    {
     "data": {
      "application/javascript": "/* Put everything inside the global mpl namespace */\n/* global mpl */\nwindow.mpl = {};\n\nmpl.get_websocket_type = function () {\n    if (typeof WebSocket !== 'undefined') {\n        return WebSocket;\n    } else if (typeof MozWebSocket !== 'undefined') {\n        return MozWebSocket;\n    } else {\n        alert(\n            'Your browser does not have WebSocket support. ' +\n                'Please try Chrome, Safari or Firefox ≥ 6. ' +\n                'Firefox 4 and 5 are also supported but you ' +\n                'have to enable WebSockets in about:config.'\n        );\n    }\n};\n\nmpl.figure = function (figure_id, websocket, ondownload, parent_element) {\n    this.id = figure_id;\n\n    this.ws = websocket;\n\n    this.supports_binary = this.ws.binaryType !== undefined;\n\n    if (!this.supports_binary) {\n        var warnings = document.getElementById('mpl-warnings');\n        if (warnings) {\n            warnings.style.display = 'block';\n            warnings.textContent =\n                'This browser does not support binary websocket messages. ' +\n                'Performance may be slow.';\n        }\n    }\n\n    this.imageObj = new Image();\n\n    this.context = undefined;\n    this.message = undefined;\n    this.canvas = undefined;\n    this.rubberband_canvas = undefined;\n    this.rubberband_context = undefined;\n    this.format_dropdown = undefined;\n\n    this.image_mode = 'full';\n\n    this.root = document.createElement('div');\n    this.root.setAttribute('style', 'display: inline-block');\n    this._root_extra_style(this.root);\n\n    parent_element.appendChild(this.root);\n\n    this._init_header(this);\n    this._init_canvas(this);\n    this._init_toolbar(this);\n\n    var fig = this;\n\n    this.waiting = false;\n\n    this.ws.onopen = function () {\n        fig.send_message('supports_binary', { value: fig.supports_binary });\n        fig.send_message('send_image_mode', {});\n        if (fig.ratio !== 1) {\n            fig.send_message('set_device_pixel_ratio', {\n                device_pixel_ratio: fig.ratio,\n            });\n        }\n        fig.send_message('refresh', {});\n    };\n\n    this.imageObj.onload = function () {\n        if (fig.image_mode === 'full') {\n            // Full images could contain transparency (where diff images\n            // almost always do), so we need to clear the canvas so that\n            // there is no ghosting.\n            fig.context.clearRect(0, 0, fig.canvas.width, fig.canvas.height);\n        }\n        fig.context.drawImage(fig.imageObj, 0, 0);\n    };\n\n    this.imageObj.onunload = function () {\n        fig.ws.close();\n    };\n\n    this.ws.onmessage = this._make_on_message_function(this);\n\n    this.ondownload = ondownload;\n};\n\nmpl.figure.prototype._init_header = function () {\n    var titlebar = document.createElement('div');\n    titlebar.classList =\n        'ui-dialog-titlebar ui-widget-header ui-corner-all ui-helper-clearfix';\n    var titletext = document.createElement('div');\n    titletext.classList = 'ui-dialog-title';\n    titletext.setAttribute(\n        'style',\n        'width: 100%; text-align: center; padding: 3px;'\n    );\n    titlebar.appendChild(titletext);\n    this.root.appendChild(titlebar);\n    this.header = titletext;\n};\n\nmpl.figure.prototype._canvas_extra_style = function (_canvas_div) {};\n\nmpl.figure.prototype._root_extra_style = function (_canvas_div) {};\n\nmpl.figure.prototype._init_canvas = function () {\n    var fig = this;\n\n    var canvas_div = (this.canvas_div = document.createElement('div'));\n    canvas_div.setAttribute(\n        'style',\n        'border: 1px solid #ddd;' +\n            'box-sizing: content-box;' +\n            'clear: both;' +\n            'min-height: 1px;' +\n            'min-width: 1px;' +\n            'outline: 0;' +\n            'overflow: hidden;' +\n            'position: relative;' +\n            'resize: both;'\n    );\n\n    function on_keyboard_event_closure(name) {\n        return function (event) {\n            return fig.key_event(event, name);\n        };\n    }\n\n    canvas_div.addEventListener(\n        'keydown',\n        on_keyboard_event_closure('key_press')\n    );\n    canvas_div.addEventListener(\n        'keyup',\n        on_keyboard_event_closure('key_release')\n    );\n\n    this._canvas_extra_style(canvas_div);\n    this.root.appendChild(canvas_div);\n\n    var canvas = (this.canvas = document.createElement('canvas'));\n    canvas.classList.add('mpl-canvas');\n    canvas.setAttribute('style', 'box-sizing: content-box;');\n\n    this.context = canvas.getContext('2d');\n\n    var backingStore =\n        this.context.backingStorePixelRatio ||\n        this.context.webkitBackingStorePixelRatio ||\n        this.context.mozBackingStorePixelRatio ||\n        this.context.msBackingStorePixelRatio ||\n        this.context.oBackingStorePixelRatio ||\n        this.context.backingStorePixelRatio ||\n        1;\n\n    this.ratio = (window.devicePixelRatio || 1) / backingStore;\n\n    var rubberband_canvas = (this.rubberband_canvas = document.createElement(\n        'canvas'\n    ));\n    rubberband_canvas.setAttribute(\n        'style',\n        'box-sizing: content-box; position: absolute; left: 0; top: 0; z-index: 1;'\n    );\n\n    // Apply a ponyfill if ResizeObserver is not implemented by browser.\n    if (this.ResizeObserver === undefined) {\n        if (window.ResizeObserver !== undefined) {\n            this.ResizeObserver = window.ResizeObserver;\n        } else {\n            var obs = _JSXTOOLS_RESIZE_OBSERVER({});\n            this.ResizeObserver = obs.ResizeObserver;\n        }\n    }\n\n    this.resizeObserverInstance = new this.ResizeObserver(function (entries) {\n        var nentries = entries.length;\n        for (var i = 0; i < nentries; i++) {\n            var entry = entries[i];\n            var width, height;\n            if (entry.contentBoxSize) {\n                if (entry.contentBoxSize instanceof Array) {\n                    // Chrome 84 implements new version of spec.\n                    width = entry.contentBoxSize[0].inlineSize;\n                    height = entry.contentBoxSize[0].blockSize;\n                } else {\n                    // Firefox implements old version of spec.\n                    width = entry.contentBoxSize.inlineSize;\n                    height = entry.contentBoxSize.blockSize;\n                }\n            } else {\n                // Chrome <84 implements even older version of spec.\n                width = entry.contentRect.width;\n                height = entry.contentRect.height;\n            }\n\n            // Keep the size of the canvas and rubber band canvas in sync with\n            // the canvas container.\n            if (entry.devicePixelContentBoxSize) {\n                // Chrome 84 implements new version of spec.\n                canvas.setAttribute(\n                    'width',\n                    entry.devicePixelContentBoxSize[0].inlineSize\n                );\n                canvas.setAttribute(\n                    'height',\n                    entry.devicePixelContentBoxSize[0].blockSize\n                );\n            } else {\n                canvas.setAttribute('width', width * fig.ratio);\n                canvas.setAttribute('height', height * fig.ratio);\n            }\n            canvas.setAttribute(\n                'style',\n                'width: ' + width + 'px; height: ' + height + 'px;'\n            );\n\n            rubberband_canvas.setAttribute('width', width);\n            rubberband_canvas.setAttribute('height', height);\n\n            // And update the size in Python. We ignore the initial 0/0 size\n            // that occurs as the element is placed into the DOM, which should\n            // otherwise not happen due to the minimum size styling.\n            if (fig.ws.readyState == 1 && width != 0 && height != 0) {\n                fig.request_resize(width, height);\n            }\n        }\n    });\n    this.resizeObserverInstance.observe(canvas_div);\n\n    function on_mouse_event_closure(name) {\n        return function (event) {\n            return fig.mouse_event(event, name);\n        };\n    }\n\n    rubberband_canvas.addEventListener(\n        'mousedown',\n        on_mouse_event_closure('button_press')\n    );\n    rubberband_canvas.addEventListener(\n        'mouseup',\n        on_mouse_event_closure('button_release')\n    );\n    rubberband_canvas.addEventListener(\n        'dblclick',\n        on_mouse_event_closure('dblclick')\n    );\n    // Throttle sequential mouse events to 1 every 20ms.\n    rubberband_canvas.addEventListener(\n        'mousemove',\n        on_mouse_event_closure('motion_notify')\n    );\n\n    rubberband_canvas.addEventListener(\n        'mouseenter',\n        on_mouse_event_closure('figure_enter')\n    );\n    rubberband_canvas.addEventListener(\n        'mouseleave',\n        on_mouse_event_closure('figure_leave')\n    );\n\n    canvas_div.addEventListener('wheel', function (event) {\n        if (event.deltaY < 0) {\n            event.step = 1;\n        } else {\n            event.step = -1;\n        }\n        on_mouse_event_closure('scroll')(event);\n    });\n\n    canvas_div.appendChild(canvas);\n    canvas_div.appendChild(rubberband_canvas);\n\n    this.rubberband_context = rubberband_canvas.getContext('2d');\n    this.rubberband_context.strokeStyle = '#000000';\n\n    this._resize_canvas = function (width, height, forward) {\n        if (forward) {\n            canvas_div.style.width = width + 'px';\n            canvas_div.style.height = height + 'px';\n        }\n    };\n\n    // Disable right mouse context menu.\n    this.rubberband_canvas.addEventListener('contextmenu', function (_e) {\n        event.preventDefault();\n        return false;\n    });\n\n    function set_focus() {\n        canvas.focus();\n        canvas_div.focus();\n    }\n\n    window.setTimeout(set_focus, 100);\n};\n\nmpl.figure.prototype._init_toolbar = function () {\n    var fig = this;\n\n    var toolbar = document.createElement('div');\n    toolbar.classList = 'mpl-toolbar';\n    this.root.appendChild(toolbar);\n\n    function on_click_closure(name) {\n        return function (_event) {\n            return fig.toolbar_button_onclick(name);\n        };\n    }\n\n    function on_mouseover_closure(tooltip) {\n        return function (event) {\n            if (!event.currentTarget.disabled) {\n                return fig.toolbar_button_onmouseover(tooltip);\n            }\n        };\n    }\n\n    fig.buttons = {};\n    var buttonGroup = document.createElement('div');\n    buttonGroup.classList = 'mpl-button-group';\n    for (var toolbar_ind in mpl.toolbar_items) {\n        var name = mpl.toolbar_items[toolbar_ind][0];\n        var tooltip = mpl.toolbar_items[toolbar_ind][1];\n        var image = mpl.toolbar_items[toolbar_ind][2];\n        var method_name = mpl.toolbar_items[toolbar_ind][3];\n\n        if (!name) {\n            /* Instead of a spacer, we start a new button group. */\n            if (buttonGroup.hasChildNodes()) {\n                toolbar.appendChild(buttonGroup);\n            }\n            buttonGroup = document.createElement('div');\n            buttonGroup.classList = 'mpl-button-group';\n            continue;\n        }\n\n        var button = (fig.buttons[name] = document.createElement('button'));\n        button.classList = 'mpl-widget';\n        button.setAttribute('role', 'button');\n        button.setAttribute('aria-disabled', 'false');\n        button.addEventListener('click', on_click_closure(method_name));\n        button.addEventListener('mouseover', on_mouseover_closure(tooltip));\n\n        var icon_img = document.createElement('img');\n        icon_img.src = '_images/' + image + '.png';\n        icon_img.srcset = '_images/' + image + '_large.png 2x';\n        icon_img.alt = tooltip;\n        button.appendChild(icon_img);\n\n        buttonGroup.appendChild(button);\n    }\n\n    if (buttonGroup.hasChildNodes()) {\n        toolbar.appendChild(buttonGroup);\n    }\n\n    var fmt_picker = document.createElement('select');\n    fmt_picker.classList = 'mpl-widget';\n    toolbar.appendChild(fmt_picker);\n    this.format_dropdown = fmt_picker;\n\n    for (var ind in mpl.extensions) {\n        var fmt = mpl.extensions[ind];\n        var option = document.createElement('option');\n        option.selected = fmt === mpl.default_extension;\n        option.innerHTML = fmt;\n        fmt_picker.appendChild(option);\n    }\n\n    var status_bar = document.createElement('span');\n    status_bar.classList = 'mpl-message';\n    toolbar.appendChild(status_bar);\n    this.message = status_bar;\n};\n\nmpl.figure.prototype.request_resize = function (x_pixels, y_pixels) {\n    // Request matplotlib to resize the figure. Matplotlib will then trigger a resize in the client,\n    // which will in turn request a refresh of the image.\n    this.send_message('resize', { width: x_pixels, height: y_pixels });\n};\n\nmpl.figure.prototype.send_message = function (type, properties) {\n    properties['type'] = type;\n    properties['figure_id'] = this.id;\n    this.ws.send(JSON.stringify(properties));\n};\n\nmpl.figure.prototype.send_draw_message = function () {\n    if (!this.waiting) {\n        this.waiting = true;\n        this.ws.send(JSON.stringify({ type: 'draw', figure_id: this.id }));\n    }\n};\n\nmpl.figure.prototype.handle_save = function (fig, _msg) {\n    var format_dropdown = fig.format_dropdown;\n    var format = format_dropdown.options[format_dropdown.selectedIndex].value;\n    fig.ondownload(fig, format);\n};\n\nmpl.figure.prototype.handle_resize = function (fig, msg) {\n    var size = msg['size'];\n    if (size[0] !== fig.canvas.width || size[1] !== fig.canvas.height) {\n        fig._resize_canvas(size[0], size[1], msg['forward']);\n        fig.send_message('refresh', {});\n    }\n};\n\nmpl.figure.prototype.handle_rubberband = function (fig, msg) {\n    var x0 = msg['x0'] / fig.ratio;\n    var y0 = (fig.canvas.height - msg['y0']) / fig.ratio;\n    var x1 = msg['x1'] / fig.ratio;\n    var y1 = (fig.canvas.height - msg['y1']) / fig.ratio;\n    x0 = Math.floor(x0) + 0.5;\n    y0 = Math.floor(y0) + 0.5;\n    x1 = Math.floor(x1) + 0.5;\n    y1 = Math.floor(y1) + 0.5;\n    var min_x = Math.min(x0, x1);\n    var min_y = Math.min(y0, y1);\n    var width = Math.abs(x1 - x0);\n    var height = Math.abs(y1 - y0);\n\n    fig.rubberband_context.clearRect(\n        0,\n        0,\n        fig.canvas.width / fig.ratio,\n        fig.canvas.height / fig.ratio\n    );\n\n    fig.rubberband_context.strokeRect(min_x, min_y, width, height);\n};\n\nmpl.figure.prototype.handle_figure_label = function (fig, msg) {\n    // Updates the figure title.\n    fig.header.textContent = msg['label'];\n};\n\nmpl.figure.prototype.handle_cursor = function (fig, msg) {\n    fig.rubberband_canvas.style.cursor = msg['cursor'];\n};\n\nmpl.figure.prototype.handle_message = function (fig, msg) {\n    fig.message.textContent = msg['message'];\n};\n\nmpl.figure.prototype.handle_draw = function (fig, _msg) {\n    // Request the server to send over a new figure.\n    fig.send_draw_message();\n};\n\nmpl.figure.prototype.handle_image_mode = function (fig, msg) {\n    fig.image_mode = msg['mode'];\n};\n\nmpl.figure.prototype.handle_history_buttons = function (fig, msg) {\n    for (var key in msg) {\n        if (!(key in fig.buttons)) {\n            continue;\n        }\n        fig.buttons[key].disabled = !msg[key];\n        fig.buttons[key].setAttribute('aria-disabled', !msg[key]);\n    }\n};\n\nmpl.figure.prototype.handle_navigate_mode = function (fig, msg) {\n    if (msg['mode'] === 'PAN') {\n        fig.buttons['Pan'].classList.add('active');\n        fig.buttons['Zoom'].classList.remove('active');\n    } else if (msg['mode'] === 'ZOOM') {\n        fig.buttons['Pan'].classList.remove('active');\n        fig.buttons['Zoom'].classList.add('active');\n    } else {\n        fig.buttons['Pan'].classList.remove('active');\n        fig.buttons['Zoom'].classList.remove('active');\n    }\n};\n\nmpl.figure.prototype.updated_canvas_event = function () {\n    // Called whenever the canvas gets updated.\n    this.send_message('ack', {});\n};\n\n// A function to construct a web socket function for onmessage handling.\n// Called in the figure constructor.\nmpl.figure.prototype._make_on_message_function = function (fig) {\n    return function socket_on_message(evt) {\n        if (evt.data instanceof Blob) {\n            var img = evt.data;\n            if (img.type !== 'image/png') {\n                /* FIXME: We get \"Resource interpreted as Image but\n                 * transferred with MIME type text/plain:\" errors on\n                 * Chrome.  But how to set the MIME type?  It doesn't seem\n                 * to be part of the websocket stream */\n                img.type = 'image/png';\n            }\n\n            /* Free the memory for the previous frames */\n            if (fig.imageObj.src) {\n                (window.URL || window.webkitURL).revokeObjectURL(\n                    fig.imageObj.src\n                );\n            }\n\n            fig.imageObj.src = (window.URL || window.webkitURL).createObjectURL(\n                img\n            );\n            fig.updated_canvas_event();\n            fig.waiting = false;\n            return;\n        } else if (\n            typeof evt.data === 'string' &&\n            evt.data.slice(0, 21) === 'data:image/png;base64'\n        ) {\n            fig.imageObj.src = evt.data;\n            fig.updated_canvas_event();\n            fig.waiting = false;\n            return;\n        }\n\n        var msg = JSON.parse(evt.data);\n        var msg_type = msg['type'];\n\n        // Call the  \"handle_{type}\" callback, which takes\n        // the figure and JSON message as its only arguments.\n        try {\n            var callback = fig['handle_' + msg_type];\n        } catch (e) {\n            console.log(\n                \"No handler for the '\" + msg_type + \"' message type: \",\n                msg\n            );\n            return;\n        }\n\n        if (callback) {\n            try {\n                // console.log(\"Handling '\" + msg_type + \"' message: \", msg);\n                callback(fig, msg);\n            } catch (e) {\n                console.log(\n                    \"Exception inside the 'handler_\" + msg_type + \"' callback:\",\n                    e,\n                    e.stack,\n                    msg\n                );\n            }\n        }\n    };\n};\n\n// from https://stackoverflow.com/questions/1114465/getting-mouse-location-in-canvas\nmpl.findpos = function (e) {\n    //this section is from http://www.quirksmode.org/js/events_properties.html\n    var targ;\n    if (!e) {\n        e = window.event;\n    }\n    if (e.target) {\n        targ = e.target;\n    } else if (e.srcElement) {\n        targ = e.srcElement;\n    }\n    if (targ.nodeType === 3) {\n        // defeat Safari bug\n        targ = targ.parentNode;\n    }\n\n    // pageX,Y are the mouse positions relative to the document\n    var boundingRect = targ.getBoundingClientRect();\n    var x = e.pageX - (boundingRect.left + document.body.scrollLeft);\n    var y = e.pageY - (boundingRect.top + document.body.scrollTop);\n\n    return { x: x, y: y };\n};\n\n/*\n * return a copy of an object with only non-object keys\n * we need this to avoid circular references\n * https://stackoverflow.com/a/24161582/3208463\n */\nfunction simpleKeys(original) {\n    return Object.keys(original).reduce(function (obj, key) {\n        if (typeof original[key] !== 'object') {\n            obj[key] = original[key];\n        }\n        return obj;\n    }, {});\n}\n\nmpl.figure.prototype.mouse_event = function (event, name) {\n    var canvas_pos = mpl.findpos(event);\n\n    if (name === 'button_press') {\n        this.canvas.focus();\n        this.canvas_div.focus();\n    }\n\n    var x = canvas_pos.x * this.ratio;\n    var y = canvas_pos.y * this.ratio;\n\n    this.send_message(name, {\n        x: x,\n        y: y,\n        button: event.button,\n        step: event.step,\n        guiEvent: simpleKeys(event),\n    });\n\n    /* This prevents the web browser from automatically changing to\n     * the text insertion cursor when the button is pressed.  We want\n     * to control all of the cursor setting manually through the\n     * 'cursor' event from matplotlib */\n    event.preventDefault();\n    return false;\n};\n\nmpl.figure.prototype._key_event_extra = function (_event, _name) {\n    // Handle any extra behaviour associated with a key event\n};\n\nmpl.figure.prototype.key_event = function (event, name) {\n    // Prevent repeat events\n    if (name === 'key_press') {\n        if (event.key === this._key) {\n            return;\n        } else {\n            this._key = event.key;\n        }\n    }\n    if (name === 'key_release') {\n        this._key = null;\n    }\n\n    var value = '';\n    if (event.ctrlKey && event.key !== 'Control') {\n        value += 'ctrl+';\n    }\n    else if (event.altKey && event.key !== 'Alt') {\n        value += 'alt+';\n    }\n    else if (event.shiftKey && event.key !== 'Shift') {\n        value += 'shift+';\n    }\n\n    value += 'k' + event.key;\n\n    this._key_event_extra(event, name);\n\n    this.send_message(name, { key: value, guiEvent: simpleKeys(event) });\n    return false;\n};\n\nmpl.figure.prototype.toolbar_button_onclick = function (name) {\n    if (name === 'download') {\n        this.handle_save(this, null);\n    } else {\n        this.send_message('toolbar_button', { name: name });\n    }\n};\n\nmpl.figure.prototype.toolbar_button_onmouseover = function (tooltip) {\n    this.message.textContent = tooltip;\n};\n\n///////////////// REMAINING CONTENT GENERATED BY embed_js.py /////////////////\n// prettier-ignore\nvar _JSXTOOLS_RESIZE_OBSERVER=function(A){var t,i=new WeakMap,n=new WeakMap,a=new WeakMap,r=new WeakMap,o=new Set;function s(e){if(!(this instanceof s))throw new TypeError(\"Constructor requires 'new' operator\");i.set(this,e)}function h(){throw new TypeError(\"Function is not a constructor\")}function c(e,t,i,n){e=0 in arguments?Number(arguments[0]):0,t=1 in arguments?Number(arguments[1]):0,i=2 in arguments?Number(arguments[2]):0,n=3 in arguments?Number(arguments[3]):0,this.right=(this.x=this.left=e)+(this.width=i),this.bottom=(this.y=this.top=t)+(this.height=n),Object.freeze(this)}function d(){t=requestAnimationFrame(d);var s=new WeakMap,p=new Set;o.forEach((function(t){r.get(t).forEach((function(i){var r=t instanceof window.SVGElement,o=a.get(t),d=r?0:parseFloat(o.paddingTop),f=r?0:parseFloat(o.paddingRight),l=r?0:parseFloat(o.paddingBottom),u=r?0:parseFloat(o.paddingLeft),g=r?0:parseFloat(o.borderTopWidth),m=r?0:parseFloat(o.borderRightWidth),w=r?0:parseFloat(o.borderBottomWidth),b=u+f,F=d+l,v=(r?0:parseFloat(o.borderLeftWidth))+m,W=g+w,y=r?0:t.offsetHeight-W-t.clientHeight,E=r?0:t.offsetWidth-v-t.clientWidth,R=b+v,z=F+W,M=r?t.width:parseFloat(o.width)-R-E,O=r?t.height:parseFloat(o.height)-z-y;if(n.has(t)){var k=n.get(t);if(k[0]===M&&k[1]===O)return}n.set(t,[M,O]);var S=Object.create(h.prototype);S.target=t,S.contentRect=new c(u,d,M,O),s.has(i)||(s.set(i,[]),p.add(i)),s.get(i).push(S)}))})),p.forEach((function(e){i.get(e).call(e,s.get(e),e)}))}return s.prototype.observe=function(i){if(i instanceof window.Element){r.has(i)||(r.set(i,new Set),o.add(i),a.set(i,window.getComputedStyle(i)));var n=r.get(i);n.has(this)||n.add(this),cancelAnimationFrame(t),t=requestAnimationFrame(d)}},s.prototype.unobserve=function(i){if(i instanceof window.Element&&r.has(i)){var n=r.get(i);n.has(this)&&(n.delete(this),n.size||(r.delete(i),o.delete(i))),n.size||r.delete(i),o.size||cancelAnimationFrame(t)}},A.DOMRectReadOnly=c,A.ResizeObserver=s,A.ResizeObserverEntry=h,A}; // eslint-disable-line\nmpl.toolbar_items = [[\"Home\", \"Reset original view\", \"fa fa-home icon-home\", \"home\"], [\"Back\", \"Back to previous view\", \"fa fa-arrow-left icon-arrow-left\", \"back\"], [\"Forward\", \"Forward to next view\", \"fa fa-arrow-right icon-arrow-right\", \"forward\"], [\"\", \"\", \"\", \"\"], [\"Pan\", \"Left button pans, Right button zooms\\nx/y fixes axis, CTRL fixes aspect\", \"fa fa-arrows icon-move\", \"pan\"], [\"Zoom\", \"Zoom to rectangle\\nx/y fixes axis\", \"fa fa-square-o icon-check-empty\", \"zoom\"], [\"\", \"\", \"\", \"\"], [\"Download\", \"Download plot\", \"fa fa-floppy-o icon-save\", \"download\"]];\n\nmpl.extensions = [\"eps\", \"jpeg\", \"pgf\", \"pdf\", \"png\", \"ps\", \"raw\", \"svg\", \"tif\"];\n\nmpl.default_extension = \"png\";/* global mpl */\n\nvar comm_websocket_adapter = function (comm) {\n    // Create a \"websocket\"-like object which calls the given IPython comm\n    // object with the appropriate methods. Currently this is a non binary\n    // socket, so there is still some room for performance tuning.\n    var ws = {};\n\n    ws.binaryType = comm.kernel.ws.binaryType;\n    ws.readyState = comm.kernel.ws.readyState;\n    function updateReadyState(_event) {\n        if (comm.kernel.ws) {\n            ws.readyState = comm.kernel.ws.readyState;\n        } else {\n            ws.readyState = 3; // Closed state.\n        }\n    }\n    comm.kernel.ws.addEventListener('open', updateReadyState);\n    comm.kernel.ws.addEventListener('close', updateReadyState);\n    comm.kernel.ws.addEventListener('error', updateReadyState);\n\n    ws.close = function () {\n        comm.close();\n    };\n    ws.send = function (m) {\n        //console.log('sending', m);\n        comm.send(m);\n    };\n    // Register the callback with on_msg.\n    comm.on_msg(function (msg) {\n        //console.log('receiving', msg['content']['data'], msg);\n        var data = msg['content']['data'];\n        if (data['blob'] !== undefined) {\n            data = {\n                data: new Blob(msg['buffers'], { type: data['blob'] }),\n            };\n        }\n        // Pass the mpl event to the overridden (by mpl) onmessage function.\n        ws.onmessage(data);\n    });\n    return ws;\n};\n\nmpl.mpl_figure_comm = function (comm, msg) {\n    // This is the function which gets called when the mpl process\n    // starts-up an IPython Comm through the \"matplotlib\" channel.\n\n    var id = msg.content.data.id;\n    // Get hold of the div created by the display call when the Comm\n    // socket was opened in Python.\n    var element = document.getElementById(id);\n    var ws_proxy = comm_websocket_adapter(comm);\n\n    function ondownload(figure, _format) {\n        window.open(figure.canvas.toDataURL());\n    }\n\n    var fig = new mpl.figure(id, ws_proxy, ondownload, element);\n\n    // Call onopen now - mpl needs it, as it is assuming we've passed it a real\n    // web socket which is closed, not our websocket->open comm proxy.\n    ws_proxy.onopen();\n\n    fig.parent_element = element;\n    fig.cell_info = mpl.find_output_cell(\"<div id='\" + id + \"'></div>\");\n    if (!fig.cell_info) {\n        console.error('Failed to find cell for figure', id, fig);\n        return;\n    }\n    fig.cell_info[0].output_area.element.on(\n        'cleared',\n        { fig: fig },\n        fig._remove_fig_handler\n    );\n};\n\nmpl.figure.prototype.handle_close = function (fig, msg) {\n    var width = fig.canvas.width / fig.ratio;\n    fig.cell_info[0].output_area.element.off(\n        'cleared',\n        fig._remove_fig_handler\n    );\n    fig.resizeObserverInstance.unobserve(fig.canvas_div);\n\n    // Update the output cell to use the data from the current canvas.\n    fig.push_to_output();\n    var dataURL = fig.canvas.toDataURL();\n    // Re-enable the keyboard manager in IPython - without this line, in FF,\n    // the notebook keyboard shortcuts fail.\n    IPython.keyboard_manager.enable();\n    fig.parent_element.innerHTML =\n        '<img src=\"' + dataURL + '\" width=\"' + width + '\">';\n    fig.close_ws(fig, msg);\n};\n\nmpl.figure.prototype.close_ws = function (fig, msg) {\n    fig.send_message('closing', msg);\n    // fig.ws.close()\n};\n\nmpl.figure.prototype.push_to_output = function (_remove_interactive) {\n    // Turn the data on the canvas into data in the output cell.\n    var width = this.canvas.width / this.ratio;\n    var dataURL = this.canvas.toDataURL();\n    this.cell_info[1]['text/html'] =\n        '<img src=\"' + dataURL + '\" width=\"' + width + '\">';\n};\n\nmpl.figure.prototype.updated_canvas_event = function () {\n    // Tell IPython that the notebook contents must change.\n    IPython.notebook.set_dirty(true);\n    this.send_message('ack', {});\n    var fig = this;\n    // Wait a second, then push the new image to the DOM so\n    // that it is saved nicely (might be nice to debounce this).\n    setTimeout(function () {\n        fig.push_to_output();\n    }, 1000);\n};\n\nmpl.figure.prototype._init_toolbar = function () {\n    var fig = this;\n\n    var toolbar = document.createElement('div');\n    toolbar.classList = 'btn-toolbar';\n    this.root.appendChild(toolbar);\n\n    function on_click_closure(name) {\n        return function (_event) {\n            return fig.toolbar_button_onclick(name);\n        };\n    }\n\n    function on_mouseover_closure(tooltip) {\n        return function (event) {\n            if (!event.currentTarget.disabled) {\n                return fig.toolbar_button_onmouseover(tooltip);\n            }\n        };\n    }\n\n    fig.buttons = {};\n    var buttonGroup = document.createElement('div');\n    buttonGroup.classList = 'btn-group';\n    var button;\n    for (var toolbar_ind in mpl.toolbar_items) {\n        var name = mpl.toolbar_items[toolbar_ind][0];\n        var tooltip = mpl.toolbar_items[toolbar_ind][1];\n        var image = mpl.toolbar_items[toolbar_ind][2];\n        var method_name = mpl.toolbar_items[toolbar_ind][3];\n\n        if (!name) {\n            /* Instead of a spacer, we start a new button group. */\n            if (buttonGroup.hasChildNodes()) {\n                toolbar.appendChild(buttonGroup);\n            }\n            buttonGroup = document.createElement('div');\n            buttonGroup.classList = 'btn-group';\n            continue;\n        }\n\n        button = fig.buttons[name] = document.createElement('button');\n        button.classList = 'btn btn-default';\n        button.href = '#';\n        button.title = name;\n        button.innerHTML = '<i class=\"fa ' + image + ' fa-lg\"></i>';\n        button.addEventListener('click', on_click_closure(method_name));\n        button.addEventListener('mouseover', on_mouseover_closure(tooltip));\n        buttonGroup.appendChild(button);\n    }\n\n    if (buttonGroup.hasChildNodes()) {\n        toolbar.appendChild(buttonGroup);\n    }\n\n    // Add the status bar.\n    var status_bar = document.createElement('span');\n    status_bar.classList = 'mpl-message pull-right';\n    toolbar.appendChild(status_bar);\n    this.message = status_bar;\n\n    // Add the close button to the window.\n    var buttongrp = document.createElement('div');\n    buttongrp.classList = 'btn-group inline pull-right';\n    button = document.createElement('button');\n    button.classList = 'btn btn-mini btn-primary';\n    button.href = '#';\n    button.title = 'Stop Interaction';\n    button.innerHTML = '<i class=\"fa fa-power-off icon-remove icon-large\"></i>';\n    button.addEventListener('click', function (_evt) {\n        fig.handle_close(fig, {});\n    });\n    button.addEventListener(\n        'mouseover',\n        on_mouseover_closure('Stop Interaction')\n    );\n    buttongrp.appendChild(button);\n    var titlebar = this.root.querySelector('.ui-dialog-titlebar');\n    titlebar.insertBefore(buttongrp, titlebar.firstChild);\n};\n\nmpl.figure.prototype._remove_fig_handler = function (event) {\n    var fig = event.data.fig;\n    if (event.target !== this) {\n        // Ignore bubbled events from children.\n        return;\n    }\n    fig.close_ws(fig, {});\n};\n\nmpl.figure.prototype._root_extra_style = function (el) {\n    el.style.boxSizing = 'content-box'; // override notebook setting of border-box.\n};\n\nmpl.figure.prototype._canvas_extra_style = function (el) {\n    // this is important to make the div 'focusable\n    el.setAttribute('tabindex', 0);\n    // reach out to IPython and tell the keyboard manager to turn it's self\n    // off when our div gets focus\n\n    // location in version 3\n    if (IPython.notebook.keyboard_manager) {\n        IPython.notebook.keyboard_manager.register_events(el);\n    } else {\n        // location in version 2\n        IPython.keyboard_manager.register_events(el);\n    }\n};\n\nmpl.figure.prototype._key_event_extra = function (event, _name) {\n    // Check for shift+enter\n    if (event.shiftKey && event.which === 13) {\n        this.canvas_div.blur();\n        // select the cell after this one\n        var index = IPython.notebook.find_cell_index(this.cell_info[0]);\n        IPython.notebook.select(index + 1);\n    }\n};\n\nmpl.figure.prototype.handle_save = function (fig, _msg) {\n    fig.ondownload(fig, null);\n};\n\nmpl.find_output_cell = function (html_output) {\n    // Return the cell and output element which can be found *uniquely* in the notebook.\n    // Note - this is a bit hacky, but it is done because the \"notebook_saving.Notebook\"\n    // IPython event is triggered only after the cells have been serialised, which for\n    // our purposes (turning an active figure into a static one), is too late.\n    var cells = IPython.notebook.get_cells();\n    var ncells = cells.length;\n    for (var i = 0; i < ncells; i++) {\n        var cell = cells[i];\n        if (cell.cell_type === 'code') {\n            for (var j = 0; j < cell.output_area.outputs.length; j++) {\n                var data = cell.output_area.outputs[j];\n                if (data.data) {\n                    // IPython >= 3 moved mimebundle to data attribute of output\n                    data = data.data;\n                }\n                if (data['text/html'] === html_output) {\n                    return [cell, data, j];\n                }\n            }\n        }\n    }\n};\n\n// Register the function which deals with the matplotlib target/channel.\n// The kernel may be null if the page has been refreshed.\nif (IPython.notebook.kernel !== null) {\n    IPython.notebook.kernel.comm_manager.register_target(\n        'matplotlib',\n        mpl.mpl_figure_comm\n    );\n}\n",
      "text/plain": [
       "<IPython.core.display.Javascript object>"
      ]
     },
     "metadata": {},
     "output_type": "display_data"
    },
    {
     "data": {
      "text/html": [
       "<img src=\"data:image/png;base64,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\" width=\"300\">"
      ],
      "text/plain": [
       "<IPython.core.display.HTML object>"
      ]
     },
     "metadata": {},
     "output_type": "display_data"
    },
    {
     "data": {
      "text/plain": [
       "<matplotlib.legend.Legend at 0x1c448b1dc40>"
      ]
     },
     "execution_count": 25,
     "metadata": {},
     "output_type": "execute_result"
    }
   ],
   "source": [
    "dt = 0.01\n",
    "t_EKF, xhatP_EKF = solve_euler_explicit(f_EKF, xhatP0, dt, t0, tf)\n",
    "\n",
    "plt.figure()\n",
    "plt.plot(sol_traj.sol(t_EKF)[0],sol_traj.sol(t_EKF)[1], label = 'Exact')\n",
    "plt.plot(xhatP_EKF[0],xhatP_EKF[1], label = 'EKF')\n",
    "plt.grid(True)\n",
    "plt.xlabel('$x_1$')\n",
    "plt.ylabel('$x_2$')\n",
    "plt.legend()"
   ]
  },
  {
   "attachments": {},
   "cell_type": "markdown",
   "metadata": {},
   "source": [
    "Lorsqu'on augmente $R$, le gain devant la correction par la mesure dans l'observateur diminue. Cela veut dire que l'estimée est essentiellement produite par la prédiction du modèle. Ici, vu que l'on a négligé les variations de vitesse, l'estimée va être plus lente et va avoir du mal à suivre des trajectoires rapides. A l'inverse, si l'on diminue $R$, le gain devant la mesure est grand donc le filtre est réactif mais par contre le bruit de mesure est amplifié car il est aussi multiplié par le gain. Il y a donc un compromis à faire entre bruit de mesure et incertitude de modèle. En fait, dans une interprétation stochastique, la matrice $R$ est la covariance du bruit de mesure et la matrice $Q$ est la covariance du bruit de modèle. Mais c'est le poid de l'un par rapport à l'autre qui est important (ou des composantes les unes par rapport aux autres) et qui détermine si l'on fait plus confiance en l'un ou l'autre.  "
   ]
  },
  {
   "cell_type": "markdown",
   "metadata": {},
   "source": [
    "Le filtre de Kalman étendu continu et déterministe présenté ici a plusieurs défauts :\n",
    "- la convergence n'est que locale (mais cela vient de la nonlinéarité et on n'y échappe pas, à moins de recourir à des algorithmes très différents et plus complexes),\n",
    "- il nécessite d'avoir à disposition la mesure GPS en tout temps,\n",
    "- il ne dit pas comment choisir les paramètres.\n",
    "\n",
    "En pratique, on implémente plutôt la discrétisation du filtre de Kalman, qui permet de prédire par le modèle (Euler explicite) la position du bateau lorsqu'aucune mesure n'est disponible, puis de \"recâler/corriger\" l'estimée lorsque la mesure est disponible, en comparant la mesure à l'estimée comme ci-dessus. \n",
    "\n",
    "Par ailleurs, le filtre de Kalman admet, dans le contexte linéaire, une interprétation stochastique qui permet de le voir comme le filtre optimal qui minimise la variance de l'erreur d'estimation lorsque les incertitudes de mesures et de modèles sont interprétées comme des bruits blancs gaussiens. C'est en fait ainsi qu'il a été inventé. Les matrices $R$ et $Q$ sont alors directement reliés à la variance des incertitudes, ce qui en fait un filtre très intuitif à régler et ce qui justifie son succès dans l'industrie. Vous verrez donc la suite de ce projet en cours de Probabilités !"
   ]
  },
  {
   "cell_type": "code",
   "execution_count": null,
   "metadata": {},
   "outputs": [],
   "source": []
  }
 ],
 "metadata": {
  "kernelspec": {
   "display_name": "Python 3",
   "language": "python",
   "name": "python3"
  },
  "language_info": {
   "codemirror_mode": {
    "name": "ipython",
    "version": 3
   },
   "file_extension": ".py",
   "mimetype": "text/x-python",
   "name": "python",
   "nbconvert_exporter": "python",
   "pygments_lexer": "ipython3",
   "version": "3.11.0"
  },
  "vscode": {
   "interpreter": {
    "hash": "c261aea317cc0286b3b3261fbba9abdec21eaa57589985bb7a274bf54d6cc0a7"
   }
  }
 },
 "nbformat": 4,
 "nbformat_minor": 4
}
